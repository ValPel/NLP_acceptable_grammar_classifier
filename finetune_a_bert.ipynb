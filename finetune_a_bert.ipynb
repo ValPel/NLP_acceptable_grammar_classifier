{
 "cells": [
  {
   "cell_type": "markdown",
   "metadata": {},
   "source": [
    "## Finetuning a BERT-base binary classifer "
   ]
  },
  {
   "cell_type": "markdown",
   "metadata": {},
   "source": [
    "\n",
    "* Objective: predict if a sentence is grammatically acceptable\n",
    "* Data source: The Corpus of Linguistic Acceptability https://nyu-mll.github.io/CoLA/ "
   ]
  },
  {
   "cell_type": "code",
   "execution_count": 4,
   "metadata": {},
   "outputs": [],
   "source": [
    "from sklearn.model_selection import train_test_split\n",
    "import pandas as pd\n",
    "import torch\n",
    "from torch.utils.data import DataLoader\n",
    "from transformers import AutoTokenizer, DataCollatorWithPadding, AutoModelForSequenceClassification\n",
    "from datasets import Dataset\n",
    "import torch.nn as nn\n",
    "from sklearn.metrics import confusion_matrix, ConfusionMatrixDisplay\n",
    "import matplotlib.pyplot as plt"
   ]
  },
  {
   "cell_type": "code",
   "execution_count": 12,
   "metadata": {},
   "outputs": [
    {
     "name": "stderr",
     "output_type": "stream",
     "text": [
      "C:\\Users\\Valerio Pellicciari\\AppData\\Local\\Temp\\ipykernel_26696\\3374521076.py:11: FutureWarning: DataFrameGroupBy.apply operated on the grouping columns. This behavior is deprecated, and in a future version of pandas the grouping columns will be excluded from the operation. Either pass `include_groups=False` to exclude the groupings or explicitly select the grouping columns after groupby to silence this warning.\n",
      "  df = df.groupby('labels', group_keys=False).apply(lambda x: x.sample(1500, random_state=42))\n"
     ]
    }
   ],
   "source": [
    "# load data and labels on grammatically incorrect sentences:http://nyu-mll.github.io/cola\n",
    "df = pd.read_csv(\n",
    "    \"./cola_public/raw/in_domain_train.tsv\",\n",
    "    sep=\"\\t\",\n",
    "    header=None,\n",
    "    usecols=[1, 3],\n",
    "    names=[\"labels\", \"sentence\"],\n",
    ")\n",
    "\n",
    "# reduce dataframe size to 3000 balanced samples\n",
    "df = df.groupby('labels', group_keys=False).apply(lambda x: x.sample(1500, random_state=42))\n",
    "\n",
    "# split train/test data and save a copy locally for future references\n",
    "train_df, test_df = train_test_split(df)\n",
    "train_df.to_csv(\"./data/train.csv\", index=False)\n",
    "test_df.to_csv(\"./data/test.csv\", index=False)"
   ]
  },
  {
   "cell_type": "code",
   "execution_count": 13,
   "metadata": {},
   "outputs": [
    {
     "data": {
      "application/vnd.jupyter.widget-view+json": {
       "model_id": "dd0324ef957345b4aa48499af0b49de8",
       "version_major": 2,
       "version_minor": 0
      },
      "text/plain": [
       "Map:   0%|          | 0/2250 [00:00<?, ? examples/s]"
      ]
     },
     "metadata": {},
     "output_type": "display_data"
    },
    {
     "data": {
      "application/vnd.jupyter.widget-view+json": {
       "model_id": "d1fe72af9f84462fa79e0beebee992f4",
       "version_major": 2,
       "version_minor": 0
      },
      "text/plain": [
       "Map:   0%|          | 0/750 [00:00<?, ? examples/s]"
      ]
     },
     "metadata": {},
     "output_type": "display_data"
    }
   ],
   "source": [
    "# select tokenizer (bert-base-cased)\n",
    "tokenizer = AutoTokenizer.from_pretrained(\"bert-base-cased\")\n",
    "\n",
    "# deine tokenizer function\n",
    "def tokenize_function(examples):\n",
    "    return tokenizer(examples[\"sentence\"], padding=\"max_length\", truncation=True)\n",
    "\n",
    "# convert sentence and labels to HuggingFace datasets\n",
    "train_dataset = Dataset.from_pandas(train_df)\n",
    "test_dataset = Dataset.from_pandas(test_df)\n",
    "\n",
    "# execute tokenization of train, test data\n",
    "tokenized_train = train_dataset.map(tokenize_function, batched=True)\n",
    "tokenized_test = test_dataset.map(tokenize_function, batched=True)\n",
    "\n",
    "# drop leftover columns from pandas initiations\n",
    "tokenized_train = tokenized_train.remove_columns([\"sentence\", \"__index_level_0__\"])\n",
    "tokenized_test  = tokenized_test.remove_columns([\"sentence\", \"__index_level_0__\"])"
   ]
  },
  {
   "cell_type": "code",
   "execution_count": 14,
   "metadata": {},
   "outputs": [],
   "source": [
    "# prep data loader\n",
    "collator = DataCollatorWithPadding(tokenizer=tokenizer, return_tensors=\"pt\")    # helps arrange samples into batches\n",
    "train_loader = DataLoader(tokenized_train, batch_size=16, shuffle=True, collate_fn=collator, num_workers=0)    # feed data in shuffled batches to model\n",
    "eval_loader  = DataLoader(tokenized_test,  batch_size=32, shuffle=False, collate_fn=collator, num_workers=0)   # feed data in shuffled batches to model"
   ]
  },
  {
   "cell_type": "code",
   "execution_count": 15,
   "metadata": {},
   "outputs": [
    {
     "name": "stderr",
     "output_type": "stream",
     "text": [
      "Some weights of BertForSequenceClassification were not initialized from the model checkpoint at bert-base-cased and are newly initialized: ['classifier.bias', 'classifier.weight']\n",
      "You should probably TRAIN this model on a down-stream task to be able to use it for predictions and inference.\n"
     ]
    }
   ],
   "source": [
    "# import bert_base model. Add a FCNN head for binary classification.\n",
    "def create_model():\n",
    "    model = AutoModelForSequenceClassification.from_pretrained(\"bert-base-cased\", num_labels=2)\n",
    "\n",
    "    # replace the classifier with your custom head\n",
    "    hidden_size = model.config.hidden_size  # 768 for bert-base\n",
    "    model.classifier = nn.Sequential(\n",
    "        nn.Linear(hidden_size, 128),\n",
    "        nn.ReLU(),\n",
    "        nn.Linear(128, model.config.num_labels),\n",
    "        nn.LogSoftmax(dim=1)\n",
    "    )\n",
    "    \n",
    "    return model\n",
    "\n",
    "model = create_model()"
   ]
  },
  {
   "cell_type": "code",
   "execution_count": 16,
   "metadata": {},
   "outputs": [],
   "source": [
    "# define optimizer. Use different learning rates for backbone/head.\n",
    "head_params = (p for p in model.parameters() if p.requires_grad)\n",
    "optimizer = torch.optim.AdamW([\n",
    "    {\"params\": model.bert.parameters(), \"lr\": 2e-5},\n",
    "    {\"params\": model.classifier.parameters(), \"lr\": 1e-3},\n",
    "], weight_decay=1e-2)\n",
    "\n",
    "# define cost functions\n",
    "cost = nn.NLLLoss()            "
   ]
  },
  {
   "cell_type": "code",
   "execution_count": 17,
   "metadata": {},
   "outputs": [
    {
     "name": "stdout",
     "output_type": "stream",
     "text": [
      "Running on Device cuda:0\n",
      "Train Epoch: 1 [16/16 (1%)] Loss: 0.673737\n",
      "Train Epoch: 1 [816/816 (36%)] Loss: 0.590855\n",
      "Train Epoch: 1 [1616/1616 (72%)] Loss: 0.438345\n",
      "Epoch 1: Loss 0.6405, Accuracy 63.47%\n",
      "Train Epoch: 2 [16/16 (1%)] Loss: 0.395884\n",
      "Train Epoch: 2 [816/816 (36%)] Loss: 0.547392\n",
      "Train Epoch: 2 [1616/1616 (72%)] Loss: 0.224357\n",
      "Epoch 2: Loss 0.3735, Accuracy 84.89%\n"
     ]
    }
   ],
   "source": [
    "# trainng loop for bert_base model\n",
    "def train(model, train_loader, optimizer, epochs, device='cpu'):\n",
    "    model=model.to(device)                      # Ensure the model is on the correct device\n",
    "\n",
    "    for epoch in range(1, epochs + 1):          \n",
    "        model.train()                                       # Set model in training model\n",
    "        # reset tracking variables\n",
    "        running_loss = 0                # sum of all batch losses in epoch\n",
    "        correct = 0                     # number of correctly classified samples\n",
    "        total = 0                       # total number of samples seen\n",
    "\n",
    "        # loop through each batch\n",
    "        for step, batch in enumerate(train_loader):\n",
    "            input_ids = batch[\"input_ids\"].to(device, non_blocking=True)\n",
    "            attention = batch[\"attention_mask\"].to(device, non_blocking=True)\n",
    "            labels = batch[\"labels\"].to(device, non_blocking=True).long()\n",
    "            ttids     = batch.get(\"token_type_ids\")\n",
    "            ttids     = ttids.to(device, non_blocking=True) if ttids is not None else None\n",
    "\n",
    "            # training step\n",
    "            model.zero_grad()                                           # resets gradient for new batch\n",
    "            outputs = model(\n",
    "                input_ids=input_ids, \n",
    "                attention_mask=attention,\n",
    "                token_type_ids=ttids)\n",
    "            log_probs = outputs.logits            # this is LogSoftmax output\n",
    "            loss = cost(log_probs, labels)\n",
    "            running_loss += loss.item()                                   # cumulative loss\n",
    "            loss.backward()                                             # calculates backpropagation gradient for model params\n",
    "            torch.nn.utils.clip_grad_norm_(model.parameters(), 1.0)     # gradient clipping\n",
    "            optimizer.step()                                            # updates weights and biases\n",
    "\n",
    "            # accuracy calculations\n",
    "            preds = torch.argmax(outputs.logits, dim=1)\n",
    "            correct += (preds == labels).sum().item()\n",
    "            total += labels.size(0)\n",
    "\n",
    "            # print stmt every 50 steps\n",
    "            if step % 50  == 0:                                         \n",
    "                seen = (step + 1) * input_ids.size(0)\n",
    "                print(\n",
    "                    \"Train Epoch: {} [{}/{} ({:.0f}%)] Loss: {:.6f}\".format(\n",
    "                        epoch,\n",
    "                        seen,\n",
    "                        total,\n",
    "                        100.0 * (step + 1) / len(train_loader),\n",
    "                        loss.item(),\n",
    "                    )\n",
    "                )\n",
    "            \n",
    "        # Epoch summary\n",
    "        avg_loss = running_loss / len(train_loader)     # Average loss per batch\n",
    "        avg_accuracy = 100 * correct / total            # Average accuracy per batch\n",
    "        print(f'Epoch {epoch}: Loss {avg_loss:.4f}, Accuracy {avg_accuracy:.2f}%')\n",
    "\n",
    "device=torch.device(\"cuda:0\" if torch.cuda.is_available() else \"cpu\")\n",
    "print(f\"Running on Device {device}\")\n",
    "train(model, train_loader, optimizer, epochs=2, device=device)"
   ]
  },
  {
   "cell_type": "code",
   "execution_count": 18,
   "metadata": {},
   "outputs": [
    {
     "name": "stdout",
     "output_type": "stream",
     "text": [
      "Test set: Accuracy: 555/750 (74.00%)\n"
     ]
    }
   ],
   "source": [
    "# test loop for bert_base model\n",
    "def test(model, eval_loader, device='cpu'):\n",
    "    model.eval()            # Set the model to evaluation mode\n",
    "    model.to(device)        # Ensure the model is on the correct device\n",
    "\n",
    "    # tracking variables\n",
    "    correct = 0     \n",
    "    all_preds = []\n",
    "    all_labels = []\n",
    "    \n",
    "    # No gradients are needed for the evaluation\n",
    "    with torch.no_grad():                           \n",
    "\n",
    "        # iterate through all batches in test data\n",
    "        for batch in eval_loader:\n",
    "\n",
    "            # prediction step \n",
    "            input_ids = batch[\"input_ids\"].to(device, non_blocking=True)\n",
    "            attention = batch[\"attention_mask\"].to(device, non_blocking=True)\n",
    "            labels = batch[\"labels\"].to(device, non_blocking=True).long()\n",
    "            ttids     = batch.get(\"token_type_ids\")\n",
    "            ttids     = ttids.to(device, non_blocking=True) if ttids is not None else None\n",
    "\n",
    "            # training step\n",
    "            outputs = model(input_ids=input_ids,\n",
    "                            attention_mask=attention,\n",
    "                            token_type_ids=ttids,\n",
    "                            labels=labels)\n",
    "            \n",
    "            # accuracy calculations\n",
    "            preds = torch.argmax(outputs.logits, dim=1)\n",
    "            correct += (preds == labels).sum().item()\n",
    "\n",
    "            # save for confusion matrix\n",
    "            all_preds.extend(preds.cpu().numpy())\n",
    "            all_labels.extend(labels.cpu().numpy())\n",
    "\n",
    "    # final accuracy calculation for all batches\n",
    "    test_accuracy = 100 * correct / len(eval_loader.dataset)\n",
    "    print(f'Test set: Accuracy: {correct}/{len(eval_loader.dataset)} ({test_accuracy:.2f}%)')\n",
    "\n",
    "    return all_preds, all_labels\n",
    "\n",
    "preds, labels = test(model, eval_loader, device=device)"
   ]
  },
  {
   "cell_type": "code",
   "execution_count": 19,
   "metadata": {},
   "outputs": [
    {
     "data": {
      "image/png": "[encoded data removed]",
      "text/plain": [
       "<Figure size 640x480 with 2 Axes>"
      ]
     },
     "metadata": {},
     "output_type": "display_data"
    }
   ],
   "source": [
    "# display confusion matrix for classification results\n",
    "cm = confusion_matrix(labels, preds)\n",
    "disp = ConfusionMatrixDisplay(confusion_matrix=cm, display_labels=[\"Ungrammatical\", \"Grammatical\"])\n",
    "disp.plot(cmap=\"Blues\")\n",
    "plt.title(\"Confusion Matrix\")\n",
    "plt.show()"
   ]
  }
 ],
 "metadata": {
  "kernelspec": {
   "display_name": ".venv",
   "language": "python",
   "name": "python3"
  },
  "language_info": {
   "codemirror_mode": {
    "name": "ipython",
    "version": 3
   },
   "file_extension": ".py",
   "mimetype": "text/x-python",
   "name": "python",
   "nbconvert_exporter": "python",
   "pygments_lexer": "ipython3",
   "version": "3.10.11"
  }
 },
 "nbformat": 4,
 "nbformat_minor": 4
}
